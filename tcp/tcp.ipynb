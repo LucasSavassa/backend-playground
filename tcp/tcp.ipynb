{
 "cells": [
  {
   "cell_type": "markdown",
   "id": "e48a0c29-1dc6-4506-967c-770b0365fb52",
   "metadata": {},
   "source": [
    "# Exploring TCP protocol\n",
    "---\n",
    "This notebook attempts to create a TCP server and many TCP clients to explore the TCP protocol"
   ]
  },
  {
   "cell_type": "code",
   "execution_count": 16,
   "id": "99cd3e11-cfcc-42fd-a2b1-c6eb1da729ca",
   "metadata": {},
   "outputs": [],
   "source": [
    "import socket\n",
    "\n",
    "HOST = \"127.0.0.1\"\n",
    "PORT = 10000"
   ]
  },
  {
   "cell_type": "markdown",
   "id": "4a603c9a-303c-43de-8bd3-3a75c995985e",
   "metadata": {},
   "source": [
    "## Creating server"
   ]
  },
  {
   "cell_type": "code",
   "execution_count": null,
   "id": "e0c23b37-aa4f-4c51-8bc9-c970640a964c",
   "metadata": {},
   "outputs": [],
   "source": [
    "server = socket.socket()\n",
    "server.bind((HOST, PORT))\n",
    "server.listen()\n",
    "while True:\n",
    "    connection, address = server.accept()\n",
    "    print('Connected to' + address)\n",
    "    connection.close()\n",
    "    break"
   ]
  },
  {
   "cell_type": "code",
   "execution_count": null,
   "id": "7e369ce4-0dd6-4c2b-a035-da8fab3bc7e0",
   "metadata": {},
   "outputs": [],
   "source": []
  },
  {
   "cell_type": "markdown",
   "id": "8821ace9-4664-4ee8-9a78-ce3bec1933b6",
   "metadata": {},
   "source": [
    "## Creating client"
   ]
  },
  {
   "cell_type": "code",
   "execution_count": null,
   "id": "97ed08fd-1e35-4f36-bec9-81d7b9e6bdf8",
   "metadata": {},
   "outputs": [],
   "source": [
    "client = socket.socket()\n",
    "client.connect((HOST, PORT))"
   ]
  },
  {
   "cell_type": "code",
   "execution_count": null,
   "id": "c0773a07-36bc-4b9f-bb3c-20acffe75cac",
   "metadata": {},
   "outputs": [],
   "source": []
  }
 ],
 "metadata": {
  "kernelspec": {
   "display_name": "Python 3 (ipykernel)",
   "language": "python",
   "name": "python3"
  },
  "language_info": {
   "codemirror_mode": {
    "name": "ipython",
    "version": 3
   },
   "file_extension": ".py",
   "mimetype": "text/x-python",
   "name": "python",
   "nbconvert_exporter": "python",
   "pygments_lexer": "ipython3",
   "version": "3.12.2"
  }
 },
 "nbformat": 4,
 "nbformat_minor": 5
}
