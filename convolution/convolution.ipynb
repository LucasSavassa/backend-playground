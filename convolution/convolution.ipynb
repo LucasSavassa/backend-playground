{
 "cells": [
  {
   "cell_type": "markdown",
   "id": "6c2d69fe-d2e4-4830-8a3f-86c55d5861de",
   "metadata": {},
   "source": [
    "# What a convolution is?\n",
    "I don't know"
   ]
  },
  {
   "cell_type": "code",
   "execution_count": null,
   "id": "5f9b0d3f-7107-45d4-82ff-e22afbf0328b",
   "metadata": {},
   "outputs": [],
   "source": []
  }
 ],
 "metadata": {
  "kernelspec": {
   "display_name": "Python 3 (ipykernel)",
   "language": "python",
   "name": "python3"
  },
  "language_info": {
   "codemirror_mode": {
    "name": "ipython",
    "version": 3
   },
   "file_extension": ".py",
   "mimetype": "text/x-python",
   "name": "python",
   "nbconvert_exporter": "python",
   "pygments_lexer": "ipython3",
   "version": "3.12.2"
  }
 },
 "nbformat": 4,
 "nbformat_minor": 5
}
