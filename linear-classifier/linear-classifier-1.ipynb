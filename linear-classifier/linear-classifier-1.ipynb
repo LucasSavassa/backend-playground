{
 "cells": [
  {
   "cell_type": "markdown",
   "metadata": {},
   "source": [
    "## Classificador linear passo a passo - 2D "
   ]
  },
  {
   "cell_type": "code",
   "execution_count": 1,
   "metadata": {},
   "outputs": [],
   "source": [
    "import numpy as np\n",
    "import pandas as pd\n",
    "import matplotlib.pyplot as plt"
   ]
  },
  {
   "cell_type": "markdown",
   "metadata": {},
   "source": [
    "## Base de dados :"
   ]
  },
  {
   "cell_type": "code",
   "execution_count": 2,
   "metadata": {},
   "outputs": [
    {
     "name": "stdout",
     "output_type": "stream",
     "text": [
      "       0    1    2    3               4\n",
      "0    5.1  3.5  1.4  0.2     Iris-setosa\n",
      "1    4.9  3.0  1.4  0.2     Iris-setosa\n",
      "2    4.7  3.2  1.3  0.2     Iris-setosa\n",
      "3    4.6  3.1  1.5  0.2     Iris-setosa\n",
      "4    5.0  3.6  1.4  0.2     Iris-setosa\n",
      "..   ...  ...  ...  ...             ...\n",
      "145  6.7  3.0  5.2  2.3  Iris-virginica\n",
      "146  6.3  2.5  5.0  1.9  Iris-virginica\n",
      "147  6.5  3.0  5.2  2.0  Iris-virginica\n",
      "148  6.2  3.4  5.4  2.3  Iris-virginica\n",
      "149  5.9  3.0  5.1  1.8  Iris-virginica\n",
      "\n",
      "[150 rows x 5 columns]\n"
     ]
    }
   ],
   "source": [
    "data = pd.read_csv('iris.csv', header = None)\n",
    "print(data)"
   ]
  },
  {
   "cell_type": "markdown",
   "metadata": {},
   "source": [
    "## Transformação das classes :"
   ]
  },
  {
   "cell_type": "code",
   "execution_count": 3,
   "metadata": {},
   "outputs": [
    {
     "name": "stdout",
     "output_type": "stream",
     "text": [
      "      0    1    2    3  4\n",
      "0   5.1  3.5  1.4  0.2 -1\n",
      "1   4.9  3.0  1.4  0.2 -1\n",
      "2   4.7  3.2  1.3  0.2 -1\n",
      "3   4.6  3.1  1.5  0.2 -1\n",
      "4   5.0  3.6  1.4  0.2 -1\n",
      "..  ...  ...  ...  ... ..\n",
      "95  5.7  3.0  4.2  1.2  1\n",
      "96  5.7  2.9  4.2  1.3  1\n",
      "97  6.2  2.9  4.3  1.3  1\n",
      "98  5.1  2.5  3.0  1.1  1\n",
      "99  5.7  2.8  4.1  1.3  1\n",
      "\n",
      "[100 rows x 5 columns]\n"
     ]
    }
   ],
   "source": [
    "data = data[:100]\n",
    "data[4] = np.where(data.iloc[:, -1]=='Iris-setosa', -1, 1)\n",
    "print(data)"
   ]
  },
  {
   "cell_type": "markdown",
   "metadata": {},
   "source": [
    "## Preparação da base de dados para utilização no classificador :"
   ]
  },
  {
   "cell_type": "code",
   "execution_count": 4,
   "metadata": {},
   "outputs": [
    {
     "name": "stdout",
     "output_type": "stream",
     "text": [
      "[[1.  5.1 1.4]\n",
      " [1.  4.9 1.4]\n",
      " [1.  4.7 1.3]\n",
      " [1.  4.6 1.5]\n",
      " [1.  5.  1.4]\n",
      " [1.  5.4 1.7]\n",
      " [1.  4.6 1.4]\n",
      " [1.  5.  1.5]\n",
      " [1.  4.4 1.4]\n",
      " [1.  4.9 1.5]]\n"
     ]
    }
   ],
   "source": [
    "xo = np.ones(100) #incluindo o intercept dentro da matriz de features\n",
    "\n",
    "features = np.asmatrix([xo, data[0] , data[2]]) #features consideradas no classificador\n",
    "\n",
    "features = features.transpose() #ajuste da matriz de features\n",
    "\n",
    "print(features[:10,:])"
   ]
  },
  {
   "cell_type": "code",
   "execution_count": 5,
   "metadata": {},
   "outputs": [
    {
     "name": "stdout",
     "output_type": "stream",
     "text": [
      "[-1 -1 -1 -1 -1 -1 -1 -1 -1 -1 -1 -1 -1 -1 -1 -1 -1 -1 -1 -1 -1 -1 -1 -1\n",
      " -1 -1 -1 -1 -1 -1 -1 -1 -1 -1 -1 -1 -1 -1 -1 -1 -1 -1 -1 -1 -1 -1 -1 -1\n",
      " -1 -1  1  1  1  1  1  1  1  1  1  1  1  1  1  1  1  1  1  1  1  1  1  1\n",
      "  1  1  1  1  1  1  1  1  1  1  1  1  1  1  1  1  1  1  1  1  1  1  1  1\n",
      "  1  1  1  1]\n"
     ]
    }
   ],
   "source": [
    "labels = np.array(data[4]) #target de cada linha da base de dados\n",
    "print(labels[:100])"
   ]
  },
  {
   "cell_type": "markdown",
   "metadata": {},
   "source": [
    "## Visualização das classes :"
   ]
  },
  {
   "cell_type": "code",
   "execution_count": 6,
   "metadata": {
    "scrolled": true
   },
   "outputs": [
    {
     "data": {
      "image/png": "[encoded data removed]",
      "text/plain": [
       "<Figure size 432x288 with 1 Axes>"
      ]
     },
     "metadata": {
      "needs_background": "light"
     },
     "output_type": "display_data"
    }
   ],
   "source": [
    "plt.scatter(np.array(features[:50,1]), np.array(features[:50,2]), marker='o', label='setosa')\n",
    "plt.scatter(np.array(features[50:,1]), np.array(features[50:,2]), marker='x', label='versicolor')\n",
    "plt.xlabel('petal length')\n",
    "plt.ylabel('sepal length')\n",
    "plt.legend()\n",
    "plt.show()"
   ]
  },
  {
   "cell_type": "markdown",
   "metadata": {},
   "source": [
    "### Machine Learning \"From scratch\""
   ]
  },
  {
   "cell_type": "markdown",
   "metadata": {},
   "source": [
    "Modelo Matemático:\n",
    "\n",
    "$x_1, x_2 \\rightarrow{}$ features\n",
    "\n",
    "$y \\rightarrow{}$ target\n",
    "\n",
    "$\\hat{y_{i}} = w_2x_{2}^{(i)}+w_1x_{1}^{(i)}+w_0x_{0}^{(i)}=w^{T}X^{(i)}$ $\\rightarrow{}$ target estimado\n",
    "\n",
    "Não há erro se $\\rightarrow{} y_{i}\\hat{y}_{i} = y_{i}(w^{T}X^{(i)}) \\geq 0$\n",
    "\n",
    "$Erro = \\{X^{(i)} \\mid y_{i}(w^{T}X^{(i)})< 0\\} \\rightarrow$ erro gerado para cada linha da base de dados\n",
    "\n",
    "$Custo(\\hat{y_{i}})= Custo(w_{2}, w_{1}, w_{0}) = -\\sum_{i=1\\mid X_{i}\\in E}^{N}y_{i}(w^{T}X^{(i)}) \\rightarrow{}$ função custo para cada equação da reta estimada\n",
    "\n",
    "$\\frac{\\partial (Custo)}{\\partial w_{0}} = -\\sum_{i=1\\mid X_{i}\\in E}^{N}y_{i}(w^{T}x_{0}^{(i)}) \\rightarrow{}$ derivada parcial da função custo em relação ao parâmetro $w_{0}$ da equação da reta\n",
    "\n",
    "$\\frac{\\partial (Custo)}{\\partial w_{1}} = -\\sum_{i=1\\mid X_{i}\\in E}^{N}y_{i}(w^{T}x_{1}^{(i)}) \\rightarrow{}$ derivada parcial da função custo em relação ao parâmetro $w_{1}$ da equação da reta\n",
    "\n",
    "$\\frac{\\partial (Custo)}{\\partial w_{2}} = -\\sum_{i=1\\mid X_{i}\\in E}^{N}y_{i}(w^{T}x_{2}^{(i)}) \\rightarrow{}$ derivada parcial da função custo em relação ao parâmetro $w_{2}$ da equação da reta\n",
    "\n",
    "$\\frac{\\partial (Custo)}{\\partial w_{0}} = 0 \\rightarrow$ ponto de mínimo da função custo em relação ao parâmetro $w_{0}$\n",
    "\n",
    "$\\frac{\\partial (Custo)}{\\partial w_{1}} = 0 \\rightarrow$ ponto de mínimo da função custo em relação ao parâmetro $w_{1}$\n",
    "\n",
    "$\\frac{\\partial (Custo)}{\\partial w_{2}} = 0 \\rightarrow$ ponto de mínimo da função custo em relação ao parâmetro $w_{2}$"
   ]
  },
  {
   "cell_type": "markdown",
   "metadata": {},
   "source": [
    "Modelo computacional:\n",
    "\n",
    "- escolher parâmetros inciais $w_{2}$, $w_{1}$ e $w_{0}$\n",
    "- calcular $\\hat{y_{i}}$ para todas as linhas da base de dados\n",
    "- calcular função Custo\n",
    "- atualizar os parâmetros $w_{2}$, $w_{1}$ e $w_{0}$ a cada iteração, fazendo:\n",
    "\n",
    "    - $w_{0} \\leftarrow w_{0}+\\alpha \\frac{\\partial (Custo)}{\\partial w_{0}}$\n",
    "    - $w_{1} \\leftarrow w_{1}+\\alpha \\frac{\\partial (Custo)}{\\partial w_{1}}$\n",
    "    - $w_{2} \\leftarrow w_{2}+\\alpha \\frac{\\partial (Custo)}{\\partial w_{2}}$"
   ]
  },
  {
   "cell_type": "markdown",
   "metadata": {},
   "source": [
    "## Inicialização e parâmetros do classificador :"
   ]
  },
  {
   "cell_type": "code",
   "execution_count": 7,
   "metadata": {},
   "outputs": [
    {
     "name": "stdout",
     "output_type": "stream",
     "text": [
      "Inicializacao dos coeficientes w do classificador = [[0.  0.1 1. ]]\n"
     ]
    }
   ],
   "source": [
    "w = np.array([0, 0.1, 1]).reshape(-1,3)\n",
    "\n",
    "misclassified_ = [] \n",
    "\n",
    "misclassified = 0\n",
    "\n",
    "print('Inicializacao dos coeficientes w do classificador =', w)"
   ]
  },
  {
   "cell_type": "code",
   "execution_count": 8,
   "metadata": {},
   "outputs": [
    {
     "data": {
      "image/png": "[encoded data removed]",
      "text/plain": [
       "<Figure size 432x288 with 1 Axes>"
      ]
     },
     "metadata": {
      "needs_background": "light"
     },
     "output_type": "display_data"
    }
   ],
   "source": [
    "plt.scatter(np.array(features[:50,1]), np.array(features[:50,2]), marker='o', label='setosa')\n",
    "plt.scatter(np.array(features[50:,1]), np.array(features[50:,2]), marker='x', label='versicolor')\n",
    "plt.plot((np.array(features[:,1])), -w[0][0]/w[0][2]-w[0][1]/w[0][2]*(np.array(features[:,1])), label='classificador', color='red')\n",
    "plt.xlabel('petal length')\n",
    "plt.ylabel('sepal length')\n",
    "plt.legend()\n",
    "plt.show()"
   ]
  },
  {
   "cell_type": "markdown",
   "metadata": {},
   "source": [
    "## Algoritmo classificador passo a passo:"
   ]
  },
  {
   "cell_type": "markdown",
   "metadata": {},
   "source": [
    "### $1^{a}$ iteração"
   ]
  },
  {
   "cell_type": "code",
   "execution_count": 9,
   "metadata": {
    "scrolled": true
   },
   "outputs": [
    {
     "name": "stdout",
     "output_type": "stream",
     "text": [
      "Valores das features na primeira linha da base de dados = [[1.  5.1 1.4]]\n",
      "Valor do target na primeira linha da base de dados = -1\n",
      "Valores dos coeficientes w do classificador = [[0.  0.1 1. ]]\n"
     ]
    }
   ],
   "source": [
    "x = features[0]\n",
    "y = labels[0]\n",
    "print('Valores das features na primeira linha da base de dados =', x)\n",
    "print('Valor do target na primeira linha da base de dados =', y)\n",
    "print('Valores dos coeficientes w do classificador =', w)"
   ]
  },
  {
   "cell_type": "code",
   "execution_count": 10,
   "metadata": {},
   "outputs": [
    {
     "name": "stdout",
     "output_type": "stream",
     "text": [
      "Valor do label estimado da primeira linha da base de dados = [[1.91]]\n"
     ]
    }
   ],
   "source": [
    "y_hat = np.dot(w, x.transpose())\n",
    "print('Valor do label estimado da primeira linha da base de dados =', y_hat)"
   ]
  },
  {
   "cell_type": "code",
   "execution_count": 11,
   "metadata": {
    "scrolled": true
   },
   "outputs": [
    {
     "name": "stdout",
     "output_type": "stream",
     "text": [
      "Valor da classe estimada da primeira linha da base de dados = 1.0\n"
     ]
    }
   ],
   "source": [
    "classe = 1.0 if (y_hat > 0) else -1.0 #verificacao se o valor encontrado corresponde a classe correta\n",
    "print('Valor da classe estimada da primeira linha da base de dados =', classe)"
   ]
  },
  {
   "cell_type": "code",
   "execution_count": 12,
   "metadata": {
    "scrolled": true
   },
   "outputs": [
    {
     "name": "stdout",
     "output_type": "stream",
     "text": [
      "Valor do erro da primeira linha da base de dados = 2.0\n"
     ]
    }
   ],
   "source": [
    "erro = (classe - y)\n",
    "print('Valor do erro da primeira linha da base de dados =', erro)"
   ]
  },
  {
   "cell_type": "code",
   "execution_count": 13,
   "metadata": {
    "scrolled": true
   },
   "outputs": [
    {
     "name": "stdout",
     "output_type": "stream",
     "text": [
      "Valores dos coeficientes w do classificador após 1a iteração = [[-0.05  -0.155  0.93 ]]\n"
     ]
    }
   ],
   "source": [
    "if(erro):\n",
    "    misclassified += 1\n",
    "    w += 0.05*(y * x)\n",
    "    \n",
    "print('Valores dos coeficientes w do classificador após 1a iteração =', w)"
   ]
  },
  {
   "cell_type": "code",
   "execution_count": 14,
   "metadata": {},
   "outputs": [
    {
     "data": {
      "image/png": "[encoded data removed]",
      "text/plain": [
       "<Figure size 432x288 with 1 Axes>"
      ]
     },
     "metadata": {
      "needs_background": "light"
     },
     "output_type": "display_data"
    }
   ],
   "source": [
    "plt.scatter(np.array(features[:50,1]), np.array(features[:50,2]), marker='o', label='setosa')\n",
    "plt.scatter(np.array(features[50:,1]), np.array(features[50:,2]), marker='x', label='versicolor')\n",
    "plt.plot((np.array(features[:,1])), -w[0][0]/w[0][2]-w[0][1]/w[0][2]*(np.array(features[:,1])), label='classificador', color='red')\n",
    "plt.xlabel('petal length')\n",
    "plt.ylabel('sepal length')\n",
    "plt.legend()\n",
    "plt.show()"
   ]
  },
  {
   "cell_type": "code",
   "execution_count": 15,
   "metadata": {},
   "outputs": [
    {
     "name": "stdout",
     "output_type": "stream",
     "text": [
      "Erro após 1a iteração = [2.0]\n"
     ]
    }
   ],
   "source": [
    "misclassified_.append(erro)\n",
    "print('Erro após 1a iteração =', misclassified_)"
   ]
  },
  {
   "cell_type": "markdown",
   "metadata": {},
   "source": [
    "### $2^{a}$ iteração"
   ]
  },
  {
   "cell_type": "code",
   "execution_count": 16,
   "metadata": {},
   "outputs": [
    {
     "name": "stdout",
     "output_type": "stream",
     "text": [
      "Valores das features na segunda linha da base de dados = [[1.  4.9 1.4]]\n",
      "Valor do target na segunda linha da base de dados = -1\n",
      "Valores dos coeficientes w do classificador = [[-0.05  -0.155  0.93 ]]\n"
     ]
    }
   ],
   "source": [
    "x = features[1]\n",
    "y = labels[1]\n",
    "print('Valores das features na segunda linha da base de dados =', x)\n",
    "print('Valor do target na segunda linha da base de dados =', y)\n",
    "print('Valores dos coeficientes w do classificador =', w)"
   ]
  },
  {
   "cell_type": "code",
   "execution_count": 17,
   "metadata": {},
   "outputs": [
    {
     "name": "stdout",
     "output_type": "stream",
     "text": [
      "Valor do label estimado da segunda linha da base de dados = [[0.4925]]\n"
     ]
    }
   ],
   "source": [
    "y_hat = np.dot(w, x.transpose())\n",
    "print('Valor do label estimado da segunda linha da base de dados =', y_hat)"
   ]
  },
  {
   "cell_type": "code",
   "execution_count": 18,
   "metadata": {},
   "outputs": [
    {
     "name": "stdout",
     "output_type": "stream",
     "text": [
      "Valor da classe estimada da segunda linha da base de dados = 1.0\n"
     ]
    }
   ],
   "source": [
    "classe = 1.0 if (y_hat > 0) else -1.0 #verificacao se o valor encontrado corresponde a classe correta\n",
    "print('Valor da classe estimada da segunda linha da base de dados =', classe)"
   ]
  },
  {
   "cell_type": "code",
   "execution_count": 19,
   "metadata": {},
   "outputs": [
    {
     "name": "stdout",
     "output_type": "stream",
     "text": [
      "Valor do erro da segunda linha da base de dados = 2.0\n"
     ]
    }
   ],
   "source": [
    "erro = (classe - y)\n",
    "print('Valor do erro da segunda linha da base de dados =', erro)"
   ]
  },
  {
   "cell_type": "code",
   "execution_count": 20,
   "metadata": {},
   "outputs": [
    {
     "name": "stdout",
     "output_type": "stream",
     "text": [
      "Valores dos coeficientes w do classificador após 2a iteração = [[-0.1  -0.4   0.86]]\n"
     ]
    }
   ],
   "source": [
    "if(erro):\n",
    "    misclassified += 1\n",
    "    w += 0.05*(y * x)\n",
    "    \n",
    "print('Valores dos coeficientes w do classificador após 2a iteração =', w)"
   ]
  },
  {
   "cell_type": "code",
   "execution_count": 21,
   "metadata": {},
   "outputs": [
    {
     "data": {
      "image/png": "[encoded data removed]",
      "text/plain": [
       "<Figure size 432x288 with 1 Axes>"
      ]
     },
     "metadata": {
      "needs_background": "light"
     },
     "output_type": "display_data"
    }
   ],
   "source": [
    "plt.scatter(np.array(features[:50,1]), np.array(features[:50,2]), marker='o', label='setosa')\n",
    "plt.scatter(np.array(features[50:,1]), np.array(features[50:,2]), marker='x', label='versicolor')\n",
    "plt.plot((np.array(features[:,1])), -w[0][0]/w[0][2]-w[0][1]/w[0][2]*(np.array(features[:,1])), label='classificador', color='red')\n",
    "plt.xlabel('petal length')\n",
    "plt.ylabel('sepal length')\n",
    "plt.legend()\n",
    "plt.show()"
   ]
  },
  {
   "cell_type": "code",
   "execution_count": 22,
   "metadata": {
    "scrolled": true
   },
   "outputs": [
    {
     "name": "stdout",
     "output_type": "stream",
     "text": [
      "Erro após 2a iteração = [2.0, 2.0]\n"
     ]
    }
   ],
   "source": [
    "misclassified_.append(erro)\n",
    "print('Erro após 2a iteração =', misclassified_)"
   ]
  },
  {
   "cell_type": "markdown",
   "metadata": {},
   "source": [
    "## Erro de classificação :"
   ]
  },
  {
   "cell_type": "code",
   "execution_count": 23,
   "metadata": {
    "scrolled": true
   },
   "outputs": [
    {
     "data": {
      "image/png": "[encoded data removed]",
      "text/plain": [
       "<Figure size 432x288 with 1 Axes>"
      ]
     },
     "metadata": {
      "needs_background": "light"
     },
     "output_type": "display_data"
    }
   ],
   "source": [
    "plt.plot(range(len(misclassified_)), misclassified_)\n",
    "plt.xlabel('iteração')\n",
    "plt.ylabel('error')\n",
    "plt.show()"
   ]
  },
  {
   "cell_type": "markdown",
   "metadata": {},
   "source": [
    "## Visualização do classificador :"
   ]
  },
  {
   "cell_type": "code",
   "execution_count": 24,
   "metadata": {
    "scrolled": true
   },
   "outputs": [
    {
     "data": {
      "image/png": "[encoded data removed]",
      "text/plain": [
       "<Figure size 432x288 with 1 Axes>"
      ]
     },
     "metadata": {
      "needs_background": "light"
     },
     "output_type": "display_data"
    }
   ],
   "source": [
    "plt.scatter(np.array(features[:50,1]), np.array(features[:50,2]), marker='o', label='setosa')\n",
    "plt.scatter(np.array(features[50:,1]), np.array(features[50:,2]), marker='x', label='versicolor')\n",
    "plt.plot((np.array(features[:,1])), -w[0][0]/w[0][2]-w[0][1]/w[0][2]*(np.array(features[:,1])), label='classificador', color='red')\n",
    "plt.xlabel('petal length')\n",
    "plt.ylabel('sepal length')\n",
    "plt.legend()\n",
    "plt.show()"
   ]
  },
  {
   "cell_type": "markdown",
   "metadata": {},
   "source": [
    "## API"
   ]
  },
  {
   "cell_type": "code",
   "execution_count": 25,
   "metadata": {},
   "outputs": [
    {
     "name": "stdout",
     "output_type": "stream",
     "text": [
      "Valor do classificador =[1.692]\n",
      "A nova planta é da espécie: Versicolor\n"
     ]
    }
   ],
   "source": [
    "nova_planta = np.array([1, 6.7, 5.2])\n",
    "classe_planta_nova = np.dot(w,nova_planta.transpose())\n",
    "print('Valor do classificador =' + '' + str(classe_planta_nova))\n",
    "classe_final = 'Versicolor' if (classe_planta_nova > 0) else 'Setosa'\n",
    "print('A nova planta é da espécie:' , classe_final)"
   ]
  },
  {
   "cell_type": "code",
   "execution_count": null,
   "metadata": {},
   "outputs": [],
   "source": []
  }
 ],
 "metadata": {
  "kernelspec": {
   "display_name": "Python 3 (ipykernel)",
   "language": "python",
   "name": "python3"
  },
  "language_info": {
   "codemirror_mode": {
    "name": "ipython",
    "version": 3
   },
   "file_extension": ".py",
   "mimetype": "text/x-python",
   "name": "python",
   "nbconvert_exporter": "python",
   "pygments_lexer": "ipython3",
   "version": "3.12.2"
  }
 },
 "nbformat": 4,
 "nbformat_minor": 4
}
