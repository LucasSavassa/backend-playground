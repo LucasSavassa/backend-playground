{
 "cells": [
  {
   "cell_type": "markdown",
   "metadata": {},
   "source": [
    "## Classificador linear - 2D"
   ]
  },
  {
   "cell_type": "code",
   "execution_count": 1,
   "metadata": {},
   "outputs": [],
   "source": [
    "import numpy as np\n",
    "import pandas as pd\n",
    "import matplotlib.pyplot as plt\n",
    "%matplotlib inline"
   ]
  },
  {
   "cell_type": "markdown",
   "metadata": {},
   "source": [
    "## Base de dados :"
   ]
  },
  {
   "cell_type": "code",
   "execution_count": 2,
   "metadata": {},
   "outputs": [
    {
     "name": "stdout",
     "output_type": "stream",
     "text": [
      "       0    1    2    3               4\n",
      "0    5.1  3.5  1.4  0.2     Iris-setosa\n",
      "1    4.9  3.0  1.4  0.2     Iris-setosa\n",
      "2    4.7  3.2  1.3  0.2     Iris-setosa\n",
      "3    4.6  3.1  1.5  0.2     Iris-setosa\n",
      "4    5.0  3.6  1.4  0.2     Iris-setosa\n",
      "..   ...  ...  ...  ...             ...\n",
      "145  6.7  3.0  5.2  2.3  Iris-virginica\n",
      "146  6.3  2.5  5.0  1.9  Iris-virginica\n",
      "147  6.5  3.0  5.2  2.0  Iris-virginica\n",
      "148  6.2  3.4  5.4  2.3  Iris-virginica\n",
      "149  5.9  3.0  5.1  1.8  Iris-virginica\n",
      "\n",
      "[150 rows x 5 columns]\n"
     ]
    }
   ],
   "source": [
    "data = pd.read_csv('iris.csv', header = None)\n",
    "print(data)"
   ]
  },
  {
   "cell_type": "markdown",
   "metadata": {},
   "source": [
    "## Transformação das classes :"
   ]
  },
  {
   "cell_type": "code",
   "execution_count": 3,
   "metadata": {},
   "outputs": [
    {
     "name": "stdout",
     "output_type": "stream",
     "text": [
      "      0    1    2    3  4\n",
      "0   5.1  3.5  1.4  0.2 -1\n",
      "1   4.9  3.0  1.4  0.2 -1\n",
      "2   4.7  3.2  1.3  0.2 -1\n",
      "3   4.6  3.1  1.5  0.2 -1\n",
      "4   5.0  3.6  1.4  0.2 -1\n",
      "..  ...  ...  ...  ... ..\n",
      "95  5.7  3.0  4.2  1.2  1\n",
      "96  5.7  2.9  4.2  1.3  1\n",
      "97  6.2  2.9  4.3  1.3  1\n",
      "98  5.1  2.5  3.0  1.1  1\n",
      "99  5.7  2.8  4.1  1.3  1\n",
      "\n",
      "[100 rows x 5 columns]\n"
     ]
    }
   ],
   "source": [
    "data = data[:100]\n",
    "data[4] = np.where(data.iloc[:, -1]=='Iris-setosa', -1, 1)\n",
    "print(data)"
   ]
  },
  {
   "cell_type": "markdown",
   "metadata": {},
   "source": [
    "## Preparação da base de dados para utilização no classificador :"
   ]
  },
  {
   "cell_type": "code",
   "execution_count": 4,
   "metadata": {},
   "outputs": [
    {
     "name": "stdout",
     "output_type": "stream",
     "text": [
      "[[1.  5.1 1.4]\n",
      " [1.  4.9 1.4]\n",
      " [1.  4.7 1.3]\n",
      " [1.  4.6 1.5]\n",
      " [1.  5.  1.4]\n",
      " [1.  5.4 1.7]\n",
      " [1.  4.6 1.4]\n",
      " [1.  5.  1.5]\n",
      " [1.  4.4 1.4]\n",
      " [1.  4.9 1.5]]\n"
     ]
    }
   ],
   "source": [
    "xo = np.ones(100)\n",
    "\n",
    "features = np.asmatrix([xo, data[0] , data[2]])\n",
    "\n",
    "features = features.transpose()\n",
    "\n",
    "print(features[:10,:])"
   ]
  },
  {
   "cell_type": "code",
   "execution_count": 5,
   "metadata": {},
   "outputs": [
    {
     "name": "stdout",
     "output_type": "stream",
     "text": [
      "[-1 -1 -1 -1 -1 -1 -1 -1 -1 -1 -1 -1 -1 -1 -1 -1 -1 -1 -1 -1 -1 -1 -1 -1\n",
      " -1 -1 -1 -1 -1 -1 -1 -1 -1 -1 -1 -1 -1 -1 -1 -1 -1 -1 -1 -1 -1 -1 -1 -1\n",
      " -1 -1  1  1  1  1  1  1  1  1  1  1  1  1  1  1  1  1  1  1  1  1  1  1\n",
      "  1  1  1  1  1  1  1  1  1  1  1  1  1  1  1  1  1  1  1  1  1  1  1  1\n",
      "  1  1  1  1]\n"
     ]
    }
   ],
   "source": [
    "labels = np.array(data[4])\n",
    "print(labels[:100])"
   ]
  },
  {
   "cell_type": "markdown",
   "metadata": {},
   "source": [
    "## Visualização das classes :"
   ]
  },
  {
   "cell_type": "code",
   "execution_count": 6,
   "metadata": {
    "scrolled": true
   },
   "outputs": [
    {
     "data": {
      "image/png": "[encoded data removed]",
      "text/plain": [
       "<Figure size 432x288 with 1 Axes>"
      ]
     },
     "metadata": {
      "needs_background": "light"
     },
     "output_type": "display_data"
    }
   ],
   "source": [
    "plt.scatter(np.array(features[:50,1]), np.array(features[:50,2]), marker='o', label='setosa')\n",
    "plt.scatter(np.array(features[50:,1]), np.array(features[50:,2]), marker='x', label='versicolor')\n",
    "plt.xlabel('petal length')\n",
    "plt.ylabel('sepal length')\n",
    "plt.legend()\n",
    "plt.show()"
   ]
  },
  {
   "cell_type": "markdown",
   "metadata": {},
   "source": [
    "## Inicialização e parâmetros do classificador :"
   ]
  },
  {
   "cell_type": "code",
   "execution_count": 7,
   "metadata": {},
   "outputs": [
    {
     "name": "stdout",
     "output_type": "stream",
     "text": [
      "Inicializacao dos coeficientes w do classificador = [[-0.28196672 -0.21467005 -0.61562474]]\n"
     ]
    }
   ],
   "source": [
    "#w = np.zeros(shape=(1, features.shape[1]))\n",
    "\n",
    "w = np.random.randn(features.shape[1]).reshape(1,3)\n",
    "\n",
    "misclassified_ = [] \n",
    "\n",
    "num_iter = 10\n",
    "\n",
    "print('Inicializacao dos coeficientes w do classificador =', w)"
   ]
  },
  {
   "cell_type": "markdown",
   "metadata": {},
   "source": [
    "## Algoritmo classificador utilizando o Perceptron :"
   ]
  },
  {
   "cell_type": "code",
   "execution_count": 8,
   "metadata": {},
   "outputs": [
    {
     "name": "stdout",
     "output_type": "stream",
     "text": [
      "Coeficientes w do classificador = [[-3.28196672 -5.01467005 11.08437526]]\n"
     ]
    }
   ],
   "source": [
    "for epoch in range(num_iter):\n",
    "    \n",
    "    misclassified = 0\n",
    "    \n",
    "    for x, label in zip(features, labels):\n",
    "        \n",
    "        y = np.dot(w, x.transpose())\n",
    "        \n",
    "        #perceptron:\n",
    "        \n",
    "        target = 1.0 if (y > 0) else -1.0\n",
    "        \n",
    "        #\n",
    "        \n",
    "        delta = (label - target)\n",
    "        \n",
    "        if(delta):\n",
    "            misclassified += 1\n",
    "            w += label * x\n",
    "            \n",
    "    misclassified_.append(misclassified)\n",
    "\n",
    "epochs = np.arange(1, num_iter+1)\n",
    "\n",
    "print('Coeficientes w do classificador =', w)"
   ]
  },
  {
   "cell_type": "markdown",
   "metadata": {},
   "source": [
    "## Erro de classificação :"
   ]
  },
  {
   "cell_type": "code",
   "execution_count": 9,
   "metadata": {
    "scrolled": true
   },
   "outputs": [
    {
     "data": {
      "image/png": "[encoded data removed]",
      "text/plain": [
       "<Figure size 432x288 with 1 Axes>"
      ]
     },
     "metadata": {
      "needs_background": "light"
     },
     "output_type": "display_data"
    }
   ],
   "source": [
    "plt.plot(epochs, np.array(misclassified_))\n",
    "plt.xlabel('epochs')\n",
    "plt.ylabel('errors')\n",
    "plt.show()"
   ]
  },
  {
   "cell_type": "markdown",
   "metadata": {},
   "source": [
    "## Visualização do classificador :"
   ]
  },
  {
   "cell_type": "code",
   "execution_count": 10,
   "metadata": {
    "scrolled": true
   },
   "outputs": [
    {
     "data": {
      "image/png": "[encoded data removed]",
      "text/plain": [
       "<Figure size 432x288 with 1 Axes>"
      ]
     },
     "metadata": {
      "needs_background": "light"
     },
     "output_type": "display_data"
    }
   ],
   "source": [
    "plt.scatter(np.array(features[:50,1]), np.array(features[:50,2]), marker='o', label='setosa')\n",
    "plt.scatter(np.array(features[50:,1]), np.array(features[50:,2]), marker='x', label='versicolor')\n",
    "plt.plot((np.array(features[:,1])), -w[0][0]/w[0][2]-w[0][1]/w[0][2]*(np.array(features[:,1])), label='classifier')\n",
    "plt.xlabel('petal length')\n",
    "plt.ylabel('sepal length')\n",
    "plt.legend()\n",
    "plt.show()"
   ]
  },
  {
   "cell_type": "markdown",
   "metadata": {},
   "source": [
    "## API"
   ]
  },
  {
   "cell_type": "code",
   "execution_count": 11,
   "metadata": {},
   "outputs": [
    {
     "name": "stdout",
     "output_type": "stream",
     "text": [
      "Valor do classificador =[20.75849535]\n",
      "A nova planta é da espécie: Versicolor\n"
     ]
    }
   ],
   "source": [
    "nova_planta = np.array([1, 6.7, 5.2])\n",
    "classe_planta_nova = np.dot(w,nova_planta.transpose())\n",
    "print('Valor do classificador =' + '' + str(classe_planta_nova))\n",
    "classe_final = 'Versicolor' if (classe_planta_nova > 0) else 'Setosa'\n",
    "print('A nova planta é da espécie:' , classe_final)"
   ]
  },
  {
   "cell_type": "code",
   "execution_count": null,
   "metadata": {},
   "outputs": [],
   "source": []
  }
 ],
 "metadata": {
  "kernelspec": {
   "display_name": "Python 3 (ipykernel)",
   "language": "python",
   "name": "python3"
  },
  "language_info": {
   "codemirror_mode": {
    "name": "ipython",
    "version": 3
   },
   "file_extension": ".py",
   "mimetype": "text/x-python",
   "name": "python",
   "nbconvert_exporter": "python",
   "pygments_lexer": "ipython3",
   "version": "3.12.2"
  }
 },
 "nbformat": 4,
 "nbformat_minor": 4
}
