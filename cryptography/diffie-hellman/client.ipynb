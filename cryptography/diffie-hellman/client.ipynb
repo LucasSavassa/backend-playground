{
 "cells": [
  {
   "cell_type": "code",
   "execution_count": null,
   "id": "bf220eb4-70b0-4dbe-aeac-e1d5923ed6f0",
   "metadata": {},
   "outputs": [],
   "source": [
    "base,mod = 3,5"
   ]
  },
  {
   "cell_type": "code",
   "execution_count": null,
   "id": "ce502835-7d19-4153-aaa8-d75ee250677f",
   "metadata": {},
   "outputs": [],
   "source": [
    "secret = 3"
   ]
  },
  {
   "cell_type": "code",
   "execution_count": null,
   "id": "96279235-b9ca-4a93-9799-066478716413",
   "metadata": {},
   "outputs": [],
   "source": [
    "key = (base ** secret) % mod"
   ]
  },
  {
   "cell_type": "code",
   "execution_count": null,
   "id": "df9f7172-0ee4-4ba5-9afd-f4f720dc1038",
   "metadata": {},
   "outputs": [],
   "source": [
    "from socket import *"
   ]
  },
  {
   "cell_type": "code",
   "execution_count": 1,
   "id": "8b60b77f-4886-44e2-abca-f1e1448c42ce",
   "metadata": {},
   "outputs": [],
   "source": [
    "serverName = \"192.168.0.0\"\n",
    "serverPort = 25000"
   ]
  },
  {
   "cell_type": "code",
   "execution_count": null,
   "id": "ff7dc7c0-b886-48e1-a9f0-370eab4294f1",
   "metadata": {},
   "outputs": [],
   "source": [
    "clientSocket = socket(AF_INET, SOCK_STREAM)\n",
    "clientSocket.connect((serverName,serverPort))"
   ]
  },
  {
   "cell_type": "code",
   "execution_count": null,
   "id": "a88cd273-6958-4a72-ada5-d16e2212020a",
   "metadata": {},
   "outputs": [],
   "source": [
    "message = str(key)\n",
    "clientSocket.send(bytes(message,\"utf-8\"))"
   ]
  },
  {
   "cell_type": "code",
   "execution_count": null,
   "id": "10682a9a-bd42-49f3-b52e-28c2655a52f6",
   "metadata": {},
   "outputs": [],
   "source": [
    "received = clientSocket.recv(65000)\n",
    "key2 = int(str(received,\"utf-8\"))\n",
    "print(key2)"
   ]
  },
  {
   "cell_type": "code",
   "execution_count": null,
   "id": "3f57e31c-0414-4270-b4c4-0af7c82ae90e",
   "metadata": {},
   "outputs": [],
   "source": [
    "clientSocket.close()"
   ]
  },
  {
   "cell_type": "code",
   "execution_count": 2,
   "id": "e9f97b6a-f413-4958-a837-7b0416de2d24",
   "metadata": {},
   "outputs": [
    {
     "ename": "NameError",
     "evalue": "name 'key2' is not defined",
     "output_type": "error",
     "traceback": [
      "\u001b[1;31m---------------------------------------------------------------------------\u001b[0m",
      "\u001b[1;31mNameError\u001b[0m                                 Traceback (most recent call last)",
      "Cell \u001b[1;32mIn[2], line 1\u001b[0m\n\u001b[1;32m----> 1\u001b[0m common_key \u001b[38;5;241m=\u001b[39m (\u001b[43mkey2\u001b[49m \u001b[38;5;241m*\u001b[39m\u001b[38;5;241m*\u001b[39m secret) \u001b[38;5;241m%\u001b[39m mod\n",
      "\u001b[1;31mNameError\u001b[0m: name 'key2' is not defined"
     ]
    }
   ],
   "source": [
    "common_key = (key2 ** secret) % mod"
   ]
  },
  {
   "cell_type": "code",
   "execution_count": null,
   "id": "1fcafae2-30e5-4a9a-8253-5ff51717c3ac",
   "metadata": {},
   "outputs": [],
   "source": []
  }
 ],
 "metadata": {
  "kernelspec": {
   "display_name": "Python 3 (ipykernel)",
   "language": "python",
   "name": "python3"
  },
  "language_info": {
   "codemirror_mode": {
    "name": "ipython",
    "version": 3
   },
   "file_extension": ".py",
   "mimetype": "text/x-python",
   "name": "python",
   "nbconvert_exporter": "python",
   "pygments_lexer": "ipython3",
   "version": "3.11.8"
  }
 },
 "nbformat": 4,
 "nbformat_minor": 5
}
