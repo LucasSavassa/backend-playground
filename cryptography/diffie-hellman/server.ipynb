{
 "cells": [
  {
   "cell_type": "code",
   "execution_count": 16,
   "id": "df9566f5-d9df-4972-a847-26e11a8d4978",
   "metadata": {},
   "outputs": [],
   "source": [
    "base,mod = 3,5"
   ]
  },
  {
   "cell_type": "code",
   "execution_count": 17,
   "id": "4749e328-6322-44e7-aad9-52d4d1e7a323",
   "metadata": {},
   "outputs": [],
   "source": [
    "secret = 2"
   ]
  },
  {
   "cell_type": "code",
   "execution_count": 18,
   "id": "9208ab2b-ec64-43dd-8af6-6a7a87230abe",
   "metadata": {},
   "outputs": [
    {
     "data": {
      "text/plain": [
       "(4, 2)"
      ]
     },
     "execution_count": 18,
     "metadata": {},
     "output_type": "execute_result"
    }
   ],
   "source": [
    "key = (base ** secret) % mod"
   ]
  },
  {
   "cell_type": "code",
   "execution_count": null,
   "id": "d5820c15-d563-45c3-bbed-bd02f79079cc",
   "metadata": {},
   "outputs": [],
   "source": [
    "from socket import *"
   ]
  },
  {
   "cell_type": "code",
   "execution_count": null,
   "id": "19071af6-66bd-4422-91bd-0ed1866ff452",
   "metadata": {},
   "outputs": [],
   "source": [
    "serverPort = 25000"
   ]
  },
  {
   "cell_type": "code",
   "execution_count": null,
   "id": "61ef01bb-3f9c-4323-9443-df2ea1ce52f4",
   "metadata": {},
   "outputs": [],
   "source": [
    "serverSocket = socket(AF_INET,SOCK_STREAM)\n",
    "serverSocket.bind((\"\",serverPort))\n",
    "serverSocket.listen(5)\n",
    "connectionSocket, addr = serverSocket.accept()"
   ]
  },
  {
   "cell_type": "code",
   "execution_count": null,
   "id": "fa525a28-1f55-4ba6-96c6-df2c521ceef0",
   "metadata": {},
   "outputs": [],
   "source": [
    "received = connectionSocket.recv(65000)\n",
    "key2 = int(str(received,\"utf-8\"))\n",
    "print(key2)"
   ]
  },
  {
   "cell_type": "code",
   "execution_count": null,
   "id": "eb70d454-2608-443c-aa33-069dfeb3bcaa",
   "metadata": {},
   "outputs": [],
   "source": [
    "message = str(key)\n",
    "connectionSocket.send(bytes(message, \"utf-8\"))"
   ]
  },
  {
   "cell_type": "code",
   "execution_count": null,
   "id": "2120c651-355c-4eba-97fe-9264492bf16f",
   "metadata": {},
   "outputs": [],
   "source": [
    "connectionSocket.close()"
   ]
  },
  {
   "cell_type": "code",
   "execution_count": 20,
   "id": "40e95203-e72b-4d23-bda4-795bd64f47d4",
   "metadata": {},
   "outputs": [],
   "source": [
    "common_key = (key2 ** secret) % mod"
   ]
  }
 ],
 "metadata": {
  "kernelspec": {
   "display_name": "Python 3 (ipykernel)",
   "language": "python",
   "name": "python3"
  },
  "language_info": {
   "codemirror_mode": {
    "name": "ipython",
    "version": 3
   },
   "file_extension": ".py",
   "mimetype": "text/x-python",
   "name": "python",
   "nbconvert_exporter": "python",
   "pygments_lexer": "ipython3",
   "version": "3.11.8"
  }
 },
 "nbformat": 4,
 "nbformat_minor": 5
}
