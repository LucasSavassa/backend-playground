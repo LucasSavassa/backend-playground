{
 "cells": [
  {
   "cell_type": "markdown",
   "id": "8098680b-932b-41eb-ba29-ea58f263e765",
   "metadata": {},
   "source": [
    "# Exploring TCP protocol\n",
    "This notebook attempts to create a TCP server and many TCP clients to explore the TCP protocol"
   ]
  },
  {
   "cell_type": "code",
   "execution_count": 5,
   "id": "6b94445a-098d-4d91-947c-16e5d01d1635",
   "metadata": {},
   "outputs": [],
   "source": [
    "import socket\n",
    "\n",
    "HOST = \"127.0.0.1\"\n",
    "PORT = 10000"
   ]
  },
  {
   "cell_type": "markdown",
   "id": "c3d38f2c-0d8e-4f67-9df3-ee20bd4edf2f",
   "metadata": {},
   "source": [
    "## Creating server"
   ]
  },
  {
   "cell_type": "code",
   "execution_count": null,
   "id": "809857f0-de13-4315-a0e2-59fc0838eb4a",
   "metadata": {},
   "outputs": [],
   "source": [
    "server = socket.socket(AF_INET, SOCK_DGRAM)\n",
    "server.bind((HOST, PORT))\n",
    "server.listen()\n",
    "while True:\n",
    "    connection, address = server.accept()\n",
    "    print('Connected to' + address)\n",
    "    connection.close()\n",
    "    break"
   ]
  },
  {
   "cell_type": "code",
   "execution_count": null,
   "id": "0f5fb4a4-8171-442c-9234-1fd7eb480eb6",
   "metadata": {},
   "outputs": [],
   "source": []
  },
  {
   "cell_type": "markdown",
   "id": "d19a5469-5d9d-4e4e-94a3-45aeb04f10a7",
   "metadata": {},
   "source": [
    "## Creating client"
   ]
  },
  {
   "cell_type": "code",
   "execution_count": null,
   "id": "678eb017-74ca-4f2c-86ad-45815ddd52c3",
   "metadata": {},
   "outputs": [],
   "source": [
    "client = socket.socket(AF_INET, SOCK_DGRAM)\n",
    "message = raw_input('Input lowercase sentence:')\n",
    "client.sendto(message.encode(), (HOST, PORT))\n",
    "response, serverAddress = client.recvfrom(2048)\n",
    "print response.decode()\n",
    "client.close()"
   ]
  },
  {
   "cell_type": "code",
   "execution_count": null,
   "id": "295ea2fa-cad4-4cc1-837a-74f525243ff1",
   "metadata": {},
   "outputs": [],
   "source": []
  }
 ],
 "metadata": {
  "kernelspec": {
   "display_name": "Python 3 (ipykernel)",
   "language": "python",
   "name": "python3"
  },
  "language_info": {
   "codemirror_mode": {
    "name": "ipython",
    "version": 3
   },
   "file_extension": ".py",
   "mimetype": "text/x-python",
   "name": "python",
   "nbconvert_exporter": "python",
   "pygments_lexer": "ipython3",
   "version": "3.12.2"
  }
 },
 "nbformat": 4,
 "nbformat_minor": 5
}
